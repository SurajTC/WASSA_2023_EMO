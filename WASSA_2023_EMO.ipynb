{
  "nbformat": 4,
  "nbformat_minor": 0,
  "metadata": {
    "colab": {
      "provenance": [],
      "include_colab_link": true
    },
    "kernelspec": {
      "name": "python3",
      "display_name": "Python 3"
    },
    "language_info": {
      "name": "python"
    },
    "accelerator": "GPU",
    "gpuClass": "standard"
  },
  "cells": [
    {
      "cell_type": "markdown",
      "metadata": {
        "id": "view-in-github",
        "colab_type": "text"
      },
      "source": [
        "<a href=\"https://colab.research.google.com/github/SurajTC/WASSA_2023_EMO/blob/main/WASSA_2023_EMO.ipynb\" target=\"_parent\"><img src=\"https://colab.research.google.com/assets/colab-badge.svg\" alt=\"Open In Colab\"/></a>"
      ]
    },
    {
      "cell_type": "markdown",
      "source": [
        "## **Notebook Setup**"
      ],
      "metadata": {
        "id": "Mx9PstEoHfH5"
      }
    },
    {
      "cell_type": "code",
      "source": [
        "!pip install -q transformers"
      ],
      "metadata": {
        "id": "jIypVCkyjr7W"
      },
      "execution_count": null,
      "outputs": []
    },
    {
      "cell_type": "code",
      "execution_count": null,
      "metadata": {
        "id": "M-SVftX4Atta"
      },
      "outputs": [],
      "source": [
        "import numpy as np\n",
        "import pandas as pd\n",
        "\n",
        "from sklearn import metrics\n",
        "\n",
        "import transformers\n",
        "from transformers import BertTokenizer, BertModel, BertConfig\n",
        "\n",
        "import torch\n",
        "from torch.utils.data import Dataset, DataLoader, RandomSampler, SequentialSampler\n",
        "from torch import cuda"
      ]
    },
    {
      "cell_type": "code",
      "source": [
        "!nvidia-smi"
      ],
      "metadata": {
        "colab": {
          "base_uri": "https://localhost:8080/"
        },
        "id": "Ks2Vy4x5r-L4",
        "outputId": "2201e512-10f5-446d-9118-66f820c5f093"
      },
      "execution_count": null,
      "outputs": [
        {
          "output_type": "stream",
          "name": "stdout",
          "text": [
            "Fri Apr 21 21:20:32 2023       \n",
            "+-----------------------------------------------------------------------------+\n",
            "| NVIDIA-SMI 525.85.12    Driver Version: 525.85.12    CUDA Version: 12.0     |\n",
            "|-------------------------------+----------------------+----------------------+\n",
            "| GPU  Name        Persistence-M| Bus-Id        Disp.A | Volatile Uncorr. ECC |\n",
            "| Fan  Temp  Perf  Pwr:Usage/Cap|         Memory-Usage | GPU-Util  Compute M. |\n",
            "|                               |                      |               MIG M. |\n",
            "|===============================+======================+======================|\n",
            "|   0  Tesla T4            Off  | 00000000:00:04.0 Off |                    0 |\n",
            "| N/A   68C    P0    33W /  70W |  10137MiB / 15360MiB |      0%      Default |\n",
            "|                               |                      |                  N/A |\n",
            "+-------------------------------+----------------------+----------------------+\n",
            "                                                                               \n",
            "+-----------------------------------------------------------------------------+\n",
            "| Processes:                                                                  |\n",
            "|  GPU   GI   CI        PID   Type   Process name                  GPU Memory |\n",
            "|        ID   ID                                                   Usage      |\n",
            "|=============================================================================|\n",
            "+-----------------------------------------------------------------------------+\n"
          ]
        }
      ]
    },
    {
      "cell_type": "code",
      "source": [
        "device = 'cuda' if cuda.is_available() else 'cpu'\n",
        "print(device)"
      ],
      "metadata": {
        "id": "43cM-3i4XluB",
        "colab": {
          "base_uri": "https://localhost:8080/"
        },
        "outputId": "8921f229-ac59-404d-d187-997608bd1669"
      },
      "execution_count": null,
      "outputs": [
        {
          "output_type": "stream",
          "name": "stdout",
          "text": [
            "cuda\n"
          ]
        }
      ]
    },
    {
      "cell_type": "markdown",
      "source": [
        "## **Read Data**"
      ],
      "metadata": {
        "id": "xEaZWkgdHibk"
      }
    },
    {
      "cell_type": "code",
      "source": [
        "df_emo = pd.read_csv(\"https://raw.githubusercontent.com/SurajTC/WASSA_2023_EMO/main/dataset/WASSA23_essay_level_with_labels_train.tsv\", \n",
        "                 sep=\"\\t\")\n",
        "df_emo = df_emo[['essay', 'emotion']]\n",
        "\n",
        "df_emo_dev = pd.read_csv(\"https://raw.githubusercontent.com/SurajTC/WASSA_2023_EMO/main/dataset/WASSA23_essay_level_dev.tsv\", \n",
        "                  sep=\"\\t\")\n",
        "df_emo_dev = df_emo_dev[['essay']]\n",
        "\n",
        "df_emo_gold_dev = pd.read_csv(\"https://raw.githubusercontent.com/SurajTC/WASSA_2023_EMO/main/dataset/goldstandard_dev.tsv\",\n",
        "                              sep=\"\\t\", header=None)\n",
        "df_emo_gold_dev = df_emo_gold_dev[[2]]\n",
        "df_emo_gold_dev.rename({2: 'emotion_true'}, axis=1, inplace=True)\n",
        "\n",
        "df_emo.info()"
      ],
      "metadata": {
        "colab": {
          "base_uri": "https://localhost:8080/"
        },
        "id": "SfOhTF-rYAtB",
        "outputId": "265515e9-5de1-484c-d3e4-5a7009ae0cf7"
      },
      "execution_count": null,
      "outputs": [
        {
          "output_type": "stream",
          "name": "stdout",
          "text": [
            "<class 'pandas.core.frame.DataFrame'>\n",
            "RangeIndex: 792 entries, 0 to 791\n",
            "Data columns (total 2 columns):\n",
            " #   Column   Non-Null Count  Dtype \n",
            "---  ------   --------------  ----- \n",
            " 0   essay    792 non-null    object\n",
            " 1   emotion  792 non-null    object\n",
            "dtypes: object(2)\n",
            "memory usage: 12.5+ KB\n"
          ]
        }
      ]
    },
    {
      "cell_type": "code",
      "source": [
        "df_emo.head()"
      ],
      "metadata": {
        "colab": {
          "base_uri": "https://localhost:8080/",
          "height": 206
        },
        "id": "gp_bb2hQYEeZ",
        "outputId": "b722ddc1-0b41-4d55-fdc2-c648022c9acd"
      },
      "execution_count": null,
      "outputs": [
        {
          "output_type": "execute_result",
          "data": {
            "text/plain": [
              "                                               essay       emotion\n",
              "0  It breaks my heart to see people living in tho...  Hope/Sadness\n",
              "1  I wonder why there aren't more people trying t...         Anger\n",
              "2  After reading the article, you can't help but ...       Sadness\n",
              "3  It is so sad that someone who had such an amaz...       Sadness\n",
              "4  From reading the article, it looks like the wo...       Neutral"
            ],
            "text/html": [
              "\n",
              "  <div id=\"df-909837c7-40a4-495b-9405-46f5263a340f\">\n",
              "    <div class=\"colab-df-container\">\n",
              "      <div>\n",
              "<style scoped>\n",
              "    .dataframe tbody tr th:only-of-type {\n",
              "        vertical-align: middle;\n",
              "    }\n",
              "\n",
              "    .dataframe tbody tr th {\n",
              "        vertical-align: top;\n",
              "    }\n",
              "\n",
              "    .dataframe thead th {\n",
              "        text-align: right;\n",
              "    }\n",
              "</style>\n",
              "<table border=\"1\" class=\"dataframe\">\n",
              "  <thead>\n",
              "    <tr style=\"text-align: right;\">\n",
              "      <th></th>\n",
              "      <th>essay</th>\n",
              "      <th>emotion</th>\n",
              "    </tr>\n",
              "  </thead>\n",
              "  <tbody>\n",
              "    <tr>\n",
              "      <th>0</th>\n",
              "      <td>It breaks my heart to see people living in tho...</td>\n",
              "      <td>Hope/Sadness</td>\n",
              "    </tr>\n",
              "    <tr>\n",
              "      <th>1</th>\n",
              "      <td>I wonder why there aren't more people trying t...</td>\n",
              "      <td>Anger</td>\n",
              "    </tr>\n",
              "    <tr>\n",
              "      <th>2</th>\n",
              "      <td>After reading the article, you can't help but ...</td>\n",
              "      <td>Sadness</td>\n",
              "    </tr>\n",
              "    <tr>\n",
              "      <th>3</th>\n",
              "      <td>It is so sad that someone who had such an amaz...</td>\n",
              "      <td>Sadness</td>\n",
              "    </tr>\n",
              "    <tr>\n",
              "      <th>4</th>\n",
              "      <td>From reading the article, it looks like the wo...</td>\n",
              "      <td>Neutral</td>\n",
              "    </tr>\n",
              "  </tbody>\n",
              "</table>\n",
              "</div>\n",
              "      <button class=\"colab-df-convert\" onclick=\"convertToInteractive('df-909837c7-40a4-495b-9405-46f5263a340f')\"\n",
              "              title=\"Convert this dataframe to an interactive table.\"\n",
              "              style=\"display:none;\">\n",
              "        \n",
              "  <svg xmlns=\"http://www.w3.org/2000/svg\" height=\"24px\"viewBox=\"0 0 24 24\"\n",
              "       width=\"24px\">\n",
              "    <path d=\"M0 0h24v24H0V0z\" fill=\"none\"/>\n",
              "    <path d=\"M18.56 5.44l.94 2.06.94-2.06 2.06-.94-2.06-.94-.94-2.06-.94 2.06-2.06.94zm-11 1L8.5 8.5l.94-2.06 2.06-.94-2.06-.94L8.5 2.5l-.94 2.06-2.06.94zm10 10l.94 2.06.94-2.06 2.06-.94-2.06-.94-.94-2.06-.94 2.06-2.06.94z\"/><path d=\"M17.41 7.96l-1.37-1.37c-.4-.4-.92-.59-1.43-.59-.52 0-1.04.2-1.43.59L10.3 9.45l-7.72 7.72c-.78.78-.78 2.05 0 2.83L4 21.41c.39.39.9.59 1.41.59.51 0 1.02-.2 1.41-.59l7.78-7.78 2.81-2.81c.8-.78.8-2.07 0-2.86zM5.41 20L4 18.59l7.72-7.72 1.47 1.35L5.41 20z\"/>\n",
              "  </svg>\n",
              "      </button>\n",
              "      \n",
              "  <style>\n",
              "    .colab-df-container {\n",
              "      display:flex;\n",
              "      flex-wrap:wrap;\n",
              "      gap: 12px;\n",
              "    }\n",
              "\n",
              "    .colab-df-convert {\n",
              "      background-color: #E8F0FE;\n",
              "      border: none;\n",
              "      border-radius: 50%;\n",
              "      cursor: pointer;\n",
              "      display: none;\n",
              "      fill: #1967D2;\n",
              "      height: 32px;\n",
              "      padding: 0 0 0 0;\n",
              "      width: 32px;\n",
              "    }\n",
              "\n",
              "    .colab-df-convert:hover {\n",
              "      background-color: #E2EBFA;\n",
              "      box-shadow: 0px 1px 2px rgba(60, 64, 67, 0.3), 0px 1px 3px 1px rgba(60, 64, 67, 0.15);\n",
              "      fill: #174EA6;\n",
              "    }\n",
              "\n",
              "    [theme=dark] .colab-df-convert {\n",
              "      background-color: #3B4455;\n",
              "      fill: #D2E3FC;\n",
              "    }\n",
              "\n",
              "    [theme=dark] .colab-df-convert:hover {\n",
              "      background-color: #434B5C;\n",
              "      box-shadow: 0px 1px 3px 1px rgba(0, 0, 0, 0.15);\n",
              "      filter: drop-shadow(0px 1px 2px rgba(0, 0, 0, 0.3));\n",
              "      fill: #FFFFFF;\n",
              "    }\n",
              "  </style>\n",
              "\n",
              "      <script>\n",
              "        const buttonEl =\n",
              "          document.querySelector('#df-909837c7-40a4-495b-9405-46f5263a340f button.colab-df-convert');\n",
              "        buttonEl.style.display =\n",
              "          google.colab.kernel.accessAllowed ? 'block' : 'none';\n",
              "\n",
              "        async function convertToInteractive(key) {\n",
              "          const element = document.querySelector('#df-909837c7-40a4-495b-9405-46f5263a340f');\n",
              "          const dataTable =\n",
              "            await google.colab.kernel.invokeFunction('convertToInteractive',\n",
              "                                                     [key], {});\n",
              "          if (!dataTable) return;\n",
              "\n",
              "          const docLinkHtml = 'Like what you see? Visit the ' +\n",
              "            '<a target=\"_blank\" href=https://colab.research.google.com/notebooks/data_table.ipynb>data table notebook</a>'\n",
              "            + ' to learn more about interactive tables.';\n",
              "          element.innerHTML = '';\n",
              "          dataTable['output_type'] = 'display_data';\n",
              "          await google.colab.output.renderOutput(dataTable, element);\n",
              "          const docLink = document.createElement('div');\n",
              "          docLink.innerHTML = docLinkHtml;\n",
              "          element.appendChild(docLink);\n",
              "        }\n",
              "      </script>\n",
              "    </div>\n",
              "  </div>\n",
              "  "
            ]
          },
          "metadata": {},
          "execution_count": 6
        }
      ]
    },
    {
      "cell_type": "code",
      "source": [
        "df_emo.emotion.value_counts()"
      ],
      "metadata": {
        "colab": {
          "base_uri": "https://localhost:8080/"
        },
        "id": "u9dn74qFcS5U",
        "outputId": "a6c876d8-57df-42a5-a888-33de55cb565c"
      },
      "execution_count": null,
      "outputs": [
        {
          "output_type": "execute_result",
          "data": {
            "text/plain": [
              "Sadness                  297\n",
              "Neutral                  202\n",
              "Anger                     67\n",
              "Disgust                   44\n",
              "Anger/Disgust             28\n",
              "Disgust/Sadness           18\n",
              "Neutral/Sadness           18\n",
              "Fear/Sadness              16\n",
              "Hope/Sadness              15\n",
              "Anger/Sadness             14\n",
              "Fear                      10\n",
              "Hope                      10\n",
              "Surprise                   9\n",
              "Anger/Neutral              8\n",
              "Joy                        5\n",
              "Hope/Neutral               4\n",
              "Disgust/Surprise           4\n",
              "Disgust/Neutral            3\n",
              "Anger/Surprise             3\n",
              "Joy/Sadness                3\n",
              "Fear/Hope                  2\n",
              "Fear/Neutral               2\n",
              "Disgust/Fear               2\n",
              "Neutral/Surprise           2\n",
              "Anger/Disgust/Sadness      1\n",
              "Anger/Joy                  1\n",
              "Joy/Neutral                1\n",
              "Anger/Fear                 1\n",
              "Sadness/Surprise           1\n",
              "Anger/Hope                 1\n",
              "Name: emotion, dtype: int64"
            ]
          },
          "metadata": {},
          "execution_count": 7
        }
      ]
    },
    {
      "cell_type": "code",
      "source": [
        "target_labels = [i for i in df_emo.emotion.unique() if not len(i.split('/')) -1]\n",
        "target_labels = sorted(target_labels)\n",
        "print(target_labels)"
      ],
      "metadata": {
        "colab": {
          "base_uri": "https://localhost:8080/"
        },
        "id": "am0XB5DT3rdH",
        "outputId": "45abe9ca-f32e-4b81-ee02-8393456d0d53"
      },
      "execution_count": null,
      "outputs": [
        {
          "output_type": "stream",
          "name": "stdout",
          "text": [
            "['Anger', 'Disgust', 'Fear', 'Hope', 'Joy', 'Neutral', 'Sadness', 'Surprise']\n"
          ]
        }
      ]
    },
    {
      "cell_type": "code",
      "source": [
        "def encode_label(combined):\n",
        "  assert len(target_labels)\n",
        "  encoded = [0] * len(target_labels)\n",
        "  for label in combined.split('/'):\n",
        "    encoded[target_labels.index(label)] = 1\n",
        "  return encoded\n",
        "\n",
        "df = df_emo.copy()\n",
        "df.emotion = df.emotion.apply(lambda x: encode_label(x))\n",
        "df[target_labels] = pd.DataFrame(df.emotion.to_list(), index=df.index)\n",
        "df = df.drop(columns='emotion')\n",
        "df.head()"
      ],
      "metadata": {
        "id": "JKGNFYxvcqRz",
        "colab": {
          "base_uri": "https://localhost:8080/",
          "height": 206
        },
        "outputId": "0ba5c079-ffdf-495c-ed6b-0cacf68f0950"
      },
      "execution_count": null,
      "outputs": [
        {
          "output_type": "execute_result",
          "data": {
            "text/plain": [
              "                                               essay  Anger  Disgust  Fear  \\\n",
              "0  It breaks my heart to see people living in tho...      0        0     0   \n",
              "1  I wonder why there aren't more people trying t...      1        0     0   \n",
              "2  After reading the article, you can't help but ...      0        0     0   \n",
              "3  It is so sad that someone who had such an amaz...      0        0     0   \n",
              "4  From reading the article, it looks like the wo...      0        0     0   \n",
              "\n",
              "   Hope  Joy  Neutral  Sadness  Surprise  \n",
              "0     1    0        0        1         0  \n",
              "1     0    0        0        0         0  \n",
              "2     0    0        0        1         0  \n",
              "3     0    0        0        1         0  \n",
              "4     0    0        1        0         0  "
            ],
            "text/html": [
              "\n",
              "  <div id=\"df-ba8e19ea-a44f-487f-be82-15108e895a3b\">\n",
              "    <div class=\"colab-df-container\">\n",
              "      <div>\n",
              "<style scoped>\n",
              "    .dataframe tbody tr th:only-of-type {\n",
              "        vertical-align: middle;\n",
              "    }\n",
              "\n",
              "    .dataframe tbody tr th {\n",
              "        vertical-align: top;\n",
              "    }\n",
              "\n",
              "    .dataframe thead th {\n",
              "        text-align: right;\n",
              "    }\n",
              "</style>\n",
              "<table border=\"1\" class=\"dataframe\">\n",
              "  <thead>\n",
              "    <tr style=\"text-align: right;\">\n",
              "      <th></th>\n",
              "      <th>essay</th>\n",
              "      <th>Anger</th>\n",
              "      <th>Disgust</th>\n",
              "      <th>Fear</th>\n",
              "      <th>Hope</th>\n",
              "      <th>Joy</th>\n",
              "      <th>Neutral</th>\n",
              "      <th>Sadness</th>\n",
              "      <th>Surprise</th>\n",
              "    </tr>\n",
              "  </thead>\n",
              "  <tbody>\n",
              "    <tr>\n",
              "      <th>0</th>\n",
              "      <td>It breaks my heart to see people living in tho...</td>\n",
              "      <td>0</td>\n",
              "      <td>0</td>\n",
              "      <td>0</td>\n",
              "      <td>1</td>\n",
              "      <td>0</td>\n",
              "      <td>0</td>\n",
              "      <td>1</td>\n",
              "      <td>0</td>\n",
              "    </tr>\n",
              "    <tr>\n",
              "      <th>1</th>\n",
              "      <td>I wonder why there aren't more people trying t...</td>\n",
              "      <td>1</td>\n",
              "      <td>0</td>\n",
              "      <td>0</td>\n",
              "      <td>0</td>\n",
              "      <td>0</td>\n",
              "      <td>0</td>\n",
              "      <td>0</td>\n",
              "      <td>0</td>\n",
              "    </tr>\n",
              "    <tr>\n",
              "      <th>2</th>\n",
              "      <td>After reading the article, you can't help but ...</td>\n",
              "      <td>0</td>\n",
              "      <td>0</td>\n",
              "      <td>0</td>\n",
              "      <td>0</td>\n",
              "      <td>0</td>\n",
              "      <td>0</td>\n",
              "      <td>1</td>\n",
              "      <td>0</td>\n",
              "    </tr>\n",
              "    <tr>\n",
              "      <th>3</th>\n",
              "      <td>It is so sad that someone who had such an amaz...</td>\n",
              "      <td>0</td>\n",
              "      <td>0</td>\n",
              "      <td>0</td>\n",
              "      <td>0</td>\n",
              "      <td>0</td>\n",
              "      <td>0</td>\n",
              "      <td>1</td>\n",
              "      <td>0</td>\n",
              "    </tr>\n",
              "    <tr>\n",
              "      <th>4</th>\n",
              "      <td>From reading the article, it looks like the wo...</td>\n",
              "      <td>0</td>\n",
              "      <td>0</td>\n",
              "      <td>0</td>\n",
              "      <td>0</td>\n",
              "      <td>0</td>\n",
              "      <td>1</td>\n",
              "      <td>0</td>\n",
              "      <td>0</td>\n",
              "    </tr>\n",
              "  </tbody>\n",
              "</table>\n",
              "</div>\n",
              "      <button class=\"colab-df-convert\" onclick=\"convertToInteractive('df-ba8e19ea-a44f-487f-be82-15108e895a3b')\"\n",
              "              title=\"Convert this dataframe to an interactive table.\"\n",
              "              style=\"display:none;\">\n",
              "        \n",
              "  <svg xmlns=\"http://www.w3.org/2000/svg\" height=\"24px\"viewBox=\"0 0 24 24\"\n",
              "       width=\"24px\">\n",
              "    <path d=\"M0 0h24v24H0V0z\" fill=\"none\"/>\n",
              "    <path d=\"M18.56 5.44l.94 2.06.94-2.06 2.06-.94-2.06-.94-.94-2.06-.94 2.06-2.06.94zm-11 1L8.5 8.5l.94-2.06 2.06-.94-2.06-.94L8.5 2.5l-.94 2.06-2.06.94zm10 10l.94 2.06.94-2.06 2.06-.94-2.06-.94-.94-2.06-.94 2.06-2.06.94z\"/><path d=\"M17.41 7.96l-1.37-1.37c-.4-.4-.92-.59-1.43-.59-.52 0-1.04.2-1.43.59L10.3 9.45l-7.72 7.72c-.78.78-.78 2.05 0 2.83L4 21.41c.39.39.9.59 1.41.59.51 0 1.02-.2 1.41-.59l7.78-7.78 2.81-2.81c.8-.78.8-2.07 0-2.86zM5.41 20L4 18.59l7.72-7.72 1.47 1.35L5.41 20z\"/>\n",
              "  </svg>\n",
              "      </button>\n",
              "      \n",
              "  <style>\n",
              "    .colab-df-container {\n",
              "      display:flex;\n",
              "      flex-wrap:wrap;\n",
              "      gap: 12px;\n",
              "    }\n",
              "\n",
              "    .colab-df-convert {\n",
              "      background-color: #E8F0FE;\n",
              "      border: none;\n",
              "      border-radius: 50%;\n",
              "      cursor: pointer;\n",
              "      display: none;\n",
              "      fill: #1967D2;\n",
              "      height: 32px;\n",
              "      padding: 0 0 0 0;\n",
              "      width: 32px;\n",
              "    }\n",
              "\n",
              "    .colab-df-convert:hover {\n",
              "      background-color: #E2EBFA;\n",
              "      box-shadow: 0px 1px 2px rgba(60, 64, 67, 0.3), 0px 1px 3px 1px rgba(60, 64, 67, 0.15);\n",
              "      fill: #174EA6;\n",
              "    }\n",
              "\n",
              "    [theme=dark] .colab-df-convert {\n",
              "      background-color: #3B4455;\n",
              "      fill: #D2E3FC;\n",
              "    }\n",
              "\n",
              "    [theme=dark] .colab-df-convert:hover {\n",
              "      background-color: #434B5C;\n",
              "      box-shadow: 0px 1px 3px 1px rgba(0, 0, 0, 0.15);\n",
              "      filter: drop-shadow(0px 1px 2px rgba(0, 0, 0, 0.3));\n",
              "      fill: #FFFFFF;\n",
              "    }\n",
              "  </style>\n",
              "\n",
              "      <script>\n",
              "        const buttonEl =\n",
              "          document.querySelector('#df-ba8e19ea-a44f-487f-be82-15108e895a3b button.colab-df-convert');\n",
              "        buttonEl.style.display =\n",
              "          google.colab.kernel.accessAllowed ? 'block' : 'none';\n",
              "\n",
              "        async function convertToInteractive(key) {\n",
              "          const element = document.querySelector('#df-ba8e19ea-a44f-487f-be82-15108e895a3b');\n",
              "          const dataTable =\n",
              "            await google.colab.kernel.invokeFunction('convertToInteractive',\n",
              "                                                     [key], {});\n",
              "          if (!dataTable) return;\n",
              "\n",
              "          const docLinkHtml = 'Like what you see? Visit the ' +\n",
              "            '<a target=\"_blank\" href=https://colab.research.google.com/notebooks/data_table.ipynb>data table notebook</a>'\n",
              "            + ' to learn more about interactive tables.';\n",
              "          element.innerHTML = '';\n",
              "          dataTable['output_type'] = 'display_data';\n",
              "          await google.colab.output.renderOutput(dataTable, element);\n",
              "          const docLink = document.createElement('div');\n",
              "          docLink.innerHTML = docLinkHtml;\n",
              "          element.appendChild(docLink);\n",
              "        }\n",
              "      </script>\n",
              "    </div>\n",
              "  </div>\n",
              "  "
            ]
          },
          "metadata": {},
          "execution_count": 9
        }
      ]
    },
    {
      "cell_type": "markdown",
      "source": [
        "## **Preprocess the Data**\n"
      ],
      "metadata": {
        "id": "DCD-AWOzIU-G"
      }
    },
    {
      "cell_type": "code",
      "source": [
        "MAX_LEN = 256\n",
        "TRAIN_BATCH_SIZE = 32\n",
        "VAL_BATCH_SIZE = 32\n",
        "EPOCHS = 3\n",
        "LEARNING_RATE = 1e-05\n",
        "\n",
        "tokenizer = BertTokenizer.from_pretrained('bert-base-uncased')"
      ],
      "metadata": {
        "id": "sXB5zJUkYG0u"
      },
      "execution_count": null,
      "outputs": []
    },
    {
      "cell_type": "code",
      "source": [
        "class prepare_data(Dataset):\n",
        "\n",
        "    def __init__(self, dataframe, tokenizer, max_len):\n",
        "        self.tokenizer = tokenizer\n",
        "        self.data = dataframe\n",
        "        self.essay = dataframe.essay\n",
        "        self.targets = self.data[target_labels].values\n",
        "        self.max_len = max_len\n",
        "\n",
        "    def __len__(self):\n",
        "        return len(self.essay)\n",
        "\n",
        "    def __getitem__(self, index):\n",
        "        essay = str(self.essay[index])\n",
        "        essay = \" \".join(essay.split())\n",
        "\n",
        "        inputs = self.tokenizer.encode_plus(\n",
        "            essay,\n",
        "            None,\n",
        "            add_special_tokens=True,\n",
        "            max_length=self.max_len,\n",
        "            padding='max_length',\n",
        "            return_token_type_ids=True,\n",
        "            truncation=True,\n",
        "            return_attention_mask=True,\n",
        "            return_tensors='pt'\n",
        "        )\n",
        "\n",
        "        return {\n",
        "            'input_ids': inputs['input_ids'].flatten(),\n",
        "            'attention_mask': inputs['attention_mask'].flatten(),\n",
        "            'token_type_ids': inputs[\"token_type_ids\"].flatten(),\n",
        "            'targets': torch.FloatTensor(self.targets[index])\n",
        "        }"
      ],
      "metadata": {
        "id": "COf4X7D9YNv4"
      },
      "execution_count": null,
      "outputs": []
    },
    {
      "cell_type": "code",
      "source": [
        "TRAIN_SIZE = 0.95\n",
        "\n",
        "df_train = df.sample(frac=TRAIN_SIZE, random_state=42)\n",
        "df_val = df.drop(df_train.index).reset_index(drop=True)\n",
        "df_train = df_train.reset_index(drop=True)\n",
        "\n",
        "print(\"No of Samples : {}\".format(df.shape))\n",
        "print(\"Train         : {}\".format(df_train.shape))\n",
        "print(\"Validation    : {}\".format(df_val.shape))\n",
        "\n",
        "train_data = prepare_data(df_train, tokenizer, MAX_LEN)\n",
        "val_data = prepare_data(df_val, tokenizer, MAX_LEN)"
      ],
      "metadata": {
        "colab": {
          "base_uri": "https://localhost:8080/"
        },
        "id": "6ObbG2HRYZ2z",
        "outputId": "426f6d6c-3065-440b-824d-abb5de11bd9a"
      },
      "execution_count": null,
      "outputs": [
        {
          "output_type": "stream",
          "name": "stdout",
          "text": [
            "No of Samples : (792, 9)\n",
            "Train         : (752, 9)\n",
            "Validation    : (40, 9)\n"
          ]
        }
      ]
    },
    {
      "cell_type": "code",
      "source": [
        "train_data_loader = DataLoader(\n",
        "    train_data,\n",
        "    batch_size=TRAIN_BATCH_SIZE,\n",
        "    shuffle=True,\n",
        "    num_workers=0\n",
        "    )\n",
        "\n",
        "val_data_loader = DataLoader(\n",
        "    train_data,\n",
        "    batch_size=VAL_BATCH_SIZE,\n",
        "    shuffle=False,\n",
        "    num_workers=0\n",
        "    )"
      ],
      "metadata": {
        "id": "d9CDUjWTZNMa"
      },
      "execution_count": null,
      "outputs": []
    },
    {
      "cell_type": "markdown",
      "source": [
        "## **Train Network**"
      ],
      "metadata": {
        "id": "KyYHYAnbwEcQ"
      }
    },
    {
      "cell_type": "code",
      "source": [
        "class BERTClass(torch.nn.Module):\n",
        "    def __init__(self):\n",
        "        super(BERTClass, self).__init__()\n",
        "        self.base = transformers.BertModel.from_pretrained('bert-base-uncased',  return_dict=False)\n",
        "        self.dropout = torch.nn.Dropout(0.3)\n",
        "        self.linear = torch.nn.Linear(768, len(target_labels))\n",
        "    \n",
        "    def forward(self, input_ids, attention_mask, token_type_ids):\n",
        "        _, output = self.base(\n",
        "            input_ids, \n",
        "            attention_mask=attention_mask, \n",
        "            token_type_ids=token_type_ids\n",
        "            )\n",
        "        output_dropout = self.dropout(output)\n",
        "        output = self.linear(output_dropout)\n",
        "        return output\n",
        "\n",
        "model = BERTClass()\n",
        "model.to(device)"
      ],
      "metadata": {
        "id": "63Q6j4K2ZSo8"
      },
      "execution_count": null,
      "outputs": []
    },
    {
      "cell_type": "code",
      "source": [
        "def loss_fn(outputs, targets):\n",
        "    return torch.nn.BCEWithLogitsLoss()(outputs, targets)\n",
        "\n",
        "optimizer = torch.optim.Adam(params =  model.parameters(), lr=LEARNING_RATE)"
      ],
      "metadata": {
        "id": "6_hqTNjjZcgV"
      },
      "execution_count": null,
      "outputs": []
    },
    {
      "cell_type": "code",
      "source": [
        "val_targets=[]\n",
        "val_outputs=[]"
      ],
      "metadata": {
        "id": "WBmaDevYZfVd"
      },
      "execution_count": null,
      "outputs": []
    },
    {
      "cell_type": "code",
      "source": [
        "def train(\n",
        "    epochs, \n",
        "    train_loader, \n",
        "    val_loader, \n",
        "    model, \n",
        "    optimizer, \n",
        "    checkpoint_path, \n",
        "    best_model_path):\n",
        "  valid_loss_min = np.Inf\n",
        "\n",
        "  for epoch in range(1, epochs+1):\n",
        "    train_loss = 0\n",
        "    valid_loss = 0\n",
        "\n",
        "    model.train()\n",
        "    print('############# Epoch {}: Training Start   #############'.format(epoch))\n",
        "    for batch_idx, data in enumerate(train_loader):\n",
        "\n",
        "        ids = data['input_ids'].to(device, dtype = torch.long)\n",
        "        mask = data['attention_mask'].to(device, dtype = torch.long)\n",
        "        token_type_ids = data['token_type_ids'].to(device, dtype = torch.long)\n",
        "        targets = data['targets'].to(device, dtype = torch.float)\n",
        "\n",
        "        outputs = model(ids, mask, token_type_ids)\n",
        "\n",
        "        optimizer.zero_grad()\n",
        "        loss = loss_fn(outputs, targets)\n",
        "        #if batch_idx%5000==0:\n",
        "         #   print(f'Epoch: {epoch}, Training Loss:  {loss.item()}')\n",
        "        \n",
        "        optimizer.zero_grad()\n",
        "        loss.backward()\n",
        "        optimizer.step()\n",
        "\n",
        "        train_loss = train_loss + ((1 / (batch_idx + 1)) * (loss.item() - train_loss))\n",
        "\n",
        "    print('############# Epoch {}: Training End     #############'.format(epoch))\n",
        "    \n",
        "    print('############# Epoch {}: Validation Start   #############'.format(epoch))\n",
        "   \n",
        "    ######################    \n",
        "    # validate the model #\n",
        "    ######################\n",
        " \n",
        "    model.eval()\n",
        "   \n",
        "    with torch.no_grad():\n",
        "      for batch_idx, data in enumerate(val_loader, 0):\n",
        "            ids = data['input_ids'].to(device, dtype = torch.long)\n",
        "            mask = data['attention_mask'].to(device, dtype = torch.long)\n",
        "            token_type_ids = data['token_type_ids'].to(device, dtype = torch.long)\n",
        "            targets = data['targets'].to(device, dtype = torch.float)\n",
        "            outputs = model(ids, mask, token_type_ids)\n",
        "\n",
        "            loss = loss_fn(outputs, targets)\n",
        "            valid_loss = valid_loss + ((1 / (batch_idx + 1)) * (loss.item() - valid_loss))\n",
        "            val_targets.extend(targets.cpu().detach().numpy().tolist())\n",
        "            val_outputs.extend(torch.sigmoid(outputs).cpu().detach().numpy().tolist())\n",
        "\n",
        "      print('############# Epoch {}: Validation End     #############'.format(epoch))\n",
        "\n",
        "      train_loss = train_loss/len(train_loader)\n",
        "      valid_loss = valid_loss/len(val_loader)\n",
        "\n",
        "      print('Epoch: {} \\tAvgerage Training Loss: {:.6f} \\tAverage Validation Loss: {:.6f}'.format(\n",
        "            epoch, \n",
        "            train_loss,\n",
        "            valid_loss\n",
        "            ))\n",
        "\n",
        "      checkpoint = {\n",
        "            'epoch': epoch + 1,\n",
        "            'valid_loss_min': valid_loss,\n",
        "            'state_dict': model.state_dict(),\n",
        "            'optimizer': optimizer.state_dict()\n",
        "      }\n",
        "        \n",
        "      # save_ckp(checkpoint, False, checkpoint_path, best_model_path)\n",
        "        \n",
        "      ## TODO: save the model if validation loss has decreased\n",
        "      if valid_loss <= valid_loss_min:\n",
        "        print('Validation loss decreased ({:.6f} --> {:.6f}).'.format(valid_loss_min,valid_loss))\n",
        "\n",
        "        # save_ckp(checkpoint, True, checkpoint_path, best_model_path)\n",
        "        valid_loss_min = valid_loss\n",
        "\n",
        "    print('############# Epoch {}  Done   #############\\n'.format(epoch))\n",
        "\n",
        "  return model"
      ],
      "metadata": {
        "id": "YITUvzpjZjSK"
      },
      "execution_count": null,
      "outputs": []
    },
    {
      "cell_type": "code",
      "source": [
        "ckpt_path = \"/checkpoints/\"\n",
        "best_model_path = \"/best_model.pt\""
      ],
      "metadata": {
        "id": "kcoq13GRZmi1"
      },
      "execution_count": null,
      "outputs": []
    },
    {
      "cell_type": "code",
      "source": [
        "trained_model = train(EPOCHS, train_data_loader, val_data_loader, model, optimizer, ckpt_path, best_model_path)"
      ],
      "metadata": {
        "colab": {
          "base_uri": "https://localhost:8080/"
        },
        "id": "iwVuAe1VV-Aj",
        "outputId": "5bb421a2-82a8-468a-918b-45b5d7a68fcf"
      },
      "execution_count": null,
      "outputs": [
        {
          "output_type": "stream",
          "name": "stdout",
          "text": [
            "############# Epoch 1: Training Start   #############\n",
            "############# Epoch 1: Training End     #############\n",
            "############# Epoch 1: Validation Start   #############\n",
            "############# Epoch 1: Validation End     #############\n",
            "Epoch: 1 \tAvgerage Training Loss: 0.023350 \tAverage Validation Loss: 0.019325\n",
            "Validation loss decreased (inf --> 0.019325).  Saving model ...\n",
            "############# Epoch 1  Done   #############\n",
            "\n",
            "############# Epoch 2: Training Start   #############\n",
            "############# Epoch 2: Training End     #############\n",
            "############# Epoch 2: Validation Start   #############\n",
            "############# Epoch 2: Validation End     #############\n",
            "Epoch: 2 \tAvgerage Training Loss: 0.017817 \tAverage Validation Loss: 0.015739\n",
            "Validation loss decreased (0.019325 --> 0.015739).  Saving model ...\n",
            "############# Epoch 2  Done   #############\n",
            "\n",
            "############# Epoch 3: Training Start   #############\n",
            "############# Epoch 3: Training End     #############\n",
            "############# Epoch 3: Validation Start   #############\n",
            "############# Epoch 3: Validation End     #############\n",
            "Epoch: 3 \tAvgerage Training Loss: 0.015278 \tAverage Validation Loss: 0.014246\n",
            "Validation loss decreased (0.015739 --> 0.014246).  Saving model ...\n",
            "############# Epoch 3  Done   #############\n",
            "\n",
            "############# Epoch 4: Training Start   #############\n",
            "############# Epoch 4: Training End     #############\n",
            "############# Epoch 4: Validation Start   #############\n",
            "############# Epoch 4: Validation End     #############\n",
            "Epoch: 4 \tAvgerage Training Loss: 0.014168 \tAverage Validation Loss: 0.013299\n",
            "Validation loss decreased (0.014246 --> 0.013299).  Saving model ...\n",
            "############# Epoch 4  Done   #############\n",
            "\n",
            "############# Epoch 5: Training Start   #############\n",
            "############# Epoch 5: Training End     #############\n",
            "############# Epoch 5: Validation Start   #############\n",
            "############# Epoch 5: Validation End     #############\n",
            "Epoch: 5 \tAvgerage Training Loss: 0.013152 \tAverage Validation Loss: 0.012101\n",
            "Validation loss decreased (0.013299 --> 0.012101).  Saving model ...\n",
            "############# Epoch 5  Done   #############\n",
            "\n",
            "############# Epoch 6: Training Start   #############\n",
            "############# Epoch 6: Training End     #############\n",
            "############# Epoch 6: Validation Start   #############\n",
            "############# Epoch 6: Validation End     #############\n",
            "Epoch: 6 \tAvgerage Training Loss: 0.012037 \tAverage Validation Loss: 0.011241\n",
            "Validation loss decreased (0.012101 --> 0.011241).  Saving model ...\n",
            "############# Epoch 6  Done   #############\n",
            "\n",
            "############# Epoch 7: Training Start   #############\n",
            "############# Epoch 7: Training End     #############\n",
            "############# Epoch 7: Validation Start   #############\n",
            "############# Epoch 7: Validation End     #############\n",
            "Epoch: 7 \tAvgerage Training Loss: 0.011204 \tAverage Validation Loss: 0.010180\n",
            "Validation loss decreased (0.011241 --> 0.010180).  Saving model ...\n",
            "############# Epoch 7  Done   #############\n",
            "\n",
            "############# Epoch 8: Training Start   #############\n",
            "############# Epoch 8: Training End     #############\n",
            "############# Epoch 8: Validation Start   #############\n",
            "############# Epoch 8: Validation End     #############\n",
            "Epoch: 8 \tAvgerage Training Loss: 0.010360 \tAverage Validation Loss: 0.009406\n",
            "Validation loss decreased (0.010180 --> 0.009406).  Saving model ...\n",
            "############# Epoch 8  Done   #############\n",
            "\n",
            "############# Epoch 9: Training Start   #############\n",
            "############# Epoch 9: Training End     #############\n",
            "############# Epoch 9: Validation Start   #############\n",
            "############# Epoch 9: Validation End     #############\n",
            "Epoch: 9 \tAvgerage Training Loss: 0.009539 \tAverage Validation Loss: 0.008431\n",
            "Validation loss decreased (0.009406 --> 0.008431).  Saving model ...\n",
            "############# Epoch 9  Done   #############\n",
            "\n",
            "############# Epoch 10: Training Start   #############\n",
            "############# Epoch 10: Training End     #############\n",
            "############# Epoch 10: Validation Start   #############\n",
            "############# Epoch 10: Validation End     #############\n",
            "Epoch: 10 \tAvgerage Training Loss: 0.008849 \tAverage Validation Loss: 0.007804\n",
            "Validation loss decreased (0.008431 --> 0.007804).  Saving model ...\n",
            "############# Epoch 10  Done   #############\n",
            "\n"
          ]
        }
      ]
    },
    {
      "cell_type": "markdown",
      "source": [
        "## **Validation**"
      ],
      "metadata": {
        "id": "Gysd0sVOwSgm"
      }
    },
    {
      "cell_type": "code",
      "source": [
        "df_val.head()"
      ],
      "metadata": {
        "colab": {
          "base_uri": "https://localhost:8080/",
          "height": 206
        },
        "id": "mwK4npzSZERl",
        "outputId": "90b4dd37-908d-4b2d-b21c-417853559203"
      },
      "execution_count": null,
      "outputs": [
        {
          "output_type": "execute_result",
          "data": {
            "text/plain": [
              "                                               essay  Anger  Disgust  Fear  \\\n",
              "0  PTSD is a tough problem to have I feel bad for...      0        0     0   \n",
              "1  The sights and sounds of war are horrible and ...      0        0     0   \n",
              "2  This poor child I just feel so bad. You would ...      0        0     0   \n",
              "3  A zoo named world zoo was the home to many suf...      0        0     0   \n",
              "4  It is really hard to read stories about natura...      0        1     0   \n",
              "\n",
              "   Hope  Joy  Neutral  Sadness  Surprise  \n",
              "0     0    0        0        1         0  \n",
              "1     0    1        0        0         0  \n",
              "2     0    0        0        1         0  \n",
              "3     0    0        0        1         0  \n",
              "4     0    0        0        0         0  "
            ],
            "text/html": [
              "\n",
              "  <div id=\"df-6efc805d-c77b-459a-9a60-82cf4ec4065c\">\n",
              "    <div class=\"colab-df-container\">\n",
              "      <div>\n",
              "<style scoped>\n",
              "    .dataframe tbody tr th:only-of-type {\n",
              "        vertical-align: middle;\n",
              "    }\n",
              "\n",
              "    .dataframe tbody tr th {\n",
              "        vertical-align: top;\n",
              "    }\n",
              "\n",
              "    .dataframe thead th {\n",
              "        text-align: right;\n",
              "    }\n",
              "</style>\n",
              "<table border=\"1\" class=\"dataframe\">\n",
              "  <thead>\n",
              "    <tr style=\"text-align: right;\">\n",
              "      <th></th>\n",
              "      <th>essay</th>\n",
              "      <th>Anger</th>\n",
              "      <th>Disgust</th>\n",
              "      <th>Fear</th>\n",
              "      <th>Hope</th>\n",
              "      <th>Joy</th>\n",
              "      <th>Neutral</th>\n",
              "      <th>Sadness</th>\n",
              "      <th>Surprise</th>\n",
              "    </tr>\n",
              "  </thead>\n",
              "  <tbody>\n",
              "    <tr>\n",
              "      <th>0</th>\n",
              "      <td>PTSD is a tough problem to have I feel bad for...</td>\n",
              "      <td>0</td>\n",
              "      <td>0</td>\n",
              "      <td>0</td>\n",
              "      <td>0</td>\n",
              "      <td>0</td>\n",
              "      <td>0</td>\n",
              "      <td>1</td>\n",
              "      <td>0</td>\n",
              "    </tr>\n",
              "    <tr>\n",
              "      <th>1</th>\n",
              "      <td>The sights and sounds of war are horrible and ...</td>\n",
              "      <td>0</td>\n",
              "      <td>0</td>\n",
              "      <td>0</td>\n",
              "      <td>0</td>\n",
              "      <td>1</td>\n",
              "      <td>0</td>\n",
              "      <td>0</td>\n",
              "      <td>0</td>\n",
              "    </tr>\n",
              "    <tr>\n",
              "      <th>2</th>\n",
              "      <td>This poor child I just feel so bad. You would ...</td>\n",
              "      <td>0</td>\n",
              "      <td>0</td>\n",
              "      <td>0</td>\n",
              "      <td>0</td>\n",
              "      <td>0</td>\n",
              "      <td>0</td>\n",
              "      <td>1</td>\n",
              "      <td>0</td>\n",
              "    </tr>\n",
              "    <tr>\n",
              "      <th>3</th>\n",
              "      <td>A zoo named world zoo was the home to many suf...</td>\n",
              "      <td>0</td>\n",
              "      <td>0</td>\n",
              "      <td>0</td>\n",
              "      <td>0</td>\n",
              "      <td>0</td>\n",
              "      <td>0</td>\n",
              "      <td>1</td>\n",
              "      <td>0</td>\n",
              "    </tr>\n",
              "    <tr>\n",
              "      <th>4</th>\n",
              "      <td>It is really hard to read stories about natura...</td>\n",
              "      <td>0</td>\n",
              "      <td>1</td>\n",
              "      <td>0</td>\n",
              "      <td>0</td>\n",
              "      <td>0</td>\n",
              "      <td>0</td>\n",
              "      <td>0</td>\n",
              "      <td>0</td>\n",
              "    </tr>\n",
              "  </tbody>\n",
              "</table>\n",
              "</div>\n",
              "      <button class=\"colab-df-convert\" onclick=\"convertToInteractive('df-6efc805d-c77b-459a-9a60-82cf4ec4065c')\"\n",
              "              title=\"Convert this dataframe to an interactive table.\"\n",
              "              style=\"display:none;\">\n",
              "        \n",
              "  <svg xmlns=\"http://www.w3.org/2000/svg\" height=\"24px\"viewBox=\"0 0 24 24\"\n",
              "       width=\"24px\">\n",
              "    <path d=\"M0 0h24v24H0V0z\" fill=\"none\"/>\n",
              "    <path d=\"M18.56 5.44l.94 2.06.94-2.06 2.06-.94-2.06-.94-.94-2.06-.94 2.06-2.06.94zm-11 1L8.5 8.5l.94-2.06 2.06-.94-2.06-.94L8.5 2.5l-.94 2.06-2.06.94zm10 10l.94 2.06.94-2.06 2.06-.94-2.06-.94-.94-2.06-.94 2.06-2.06.94z\"/><path d=\"M17.41 7.96l-1.37-1.37c-.4-.4-.92-.59-1.43-.59-.52 0-1.04.2-1.43.59L10.3 9.45l-7.72 7.72c-.78.78-.78 2.05 0 2.83L4 21.41c.39.39.9.59 1.41.59.51 0 1.02-.2 1.41-.59l7.78-7.78 2.81-2.81c.8-.78.8-2.07 0-2.86zM5.41 20L4 18.59l7.72-7.72 1.47 1.35L5.41 20z\"/>\n",
              "  </svg>\n",
              "      </button>\n",
              "      \n",
              "  <style>\n",
              "    .colab-df-container {\n",
              "      display:flex;\n",
              "      flex-wrap:wrap;\n",
              "      gap: 12px;\n",
              "    }\n",
              "\n",
              "    .colab-df-convert {\n",
              "      background-color: #E8F0FE;\n",
              "      border: none;\n",
              "      border-radius: 50%;\n",
              "      cursor: pointer;\n",
              "      display: none;\n",
              "      fill: #1967D2;\n",
              "      height: 32px;\n",
              "      padding: 0 0 0 0;\n",
              "      width: 32px;\n",
              "    }\n",
              "\n",
              "    .colab-df-convert:hover {\n",
              "      background-color: #E2EBFA;\n",
              "      box-shadow: 0px 1px 2px rgba(60, 64, 67, 0.3), 0px 1px 3px 1px rgba(60, 64, 67, 0.15);\n",
              "      fill: #174EA6;\n",
              "    }\n",
              "\n",
              "    [theme=dark] .colab-df-convert {\n",
              "      background-color: #3B4455;\n",
              "      fill: #D2E3FC;\n",
              "    }\n",
              "\n",
              "    [theme=dark] .colab-df-convert:hover {\n",
              "      background-color: #434B5C;\n",
              "      box-shadow: 0px 1px 3px 1px rgba(0, 0, 0, 0.15);\n",
              "      filter: drop-shadow(0px 1px 2px rgba(0, 0, 0, 0.3));\n",
              "      fill: #FFFFFF;\n",
              "    }\n",
              "  </style>\n",
              "\n",
              "      <script>\n",
              "        const buttonEl =\n",
              "          document.querySelector('#df-6efc805d-c77b-459a-9a60-82cf4ec4065c button.colab-df-convert');\n",
              "        buttonEl.style.display =\n",
              "          google.colab.kernel.accessAllowed ? 'block' : 'none';\n",
              "\n",
              "        async function convertToInteractive(key) {\n",
              "          const element = document.querySelector('#df-6efc805d-c77b-459a-9a60-82cf4ec4065c');\n",
              "          const dataTable =\n",
              "            await google.colab.kernel.invokeFunction('convertToInteractive',\n",
              "                                                     [key], {});\n",
              "          if (!dataTable) return;\n",
              "\n",
              "          const docLinkHtml = 'Like what you see? Visit the ' +\n",
              "            '<a target=\"_blank\" href=https://colab.research.google.com/notebooks/data_table.ipynb>data table notebook</a>'\n",
              "            + ' to learn more about interactive tables.';\n",
              "          element.innerHTML = '';\n",
              "          dataTable['output_type'] = 'display_data';\n",
              "          await google.colab.output.renderOutput(dataTable, element);\n",
              "          const docLink = document.createElement('div');\n",
              "          docLink.innerHTML = docLinkHtml;\n",
              "          element.appendChild(docLink);\n",
              "        }\n",
              "      </script>\n",
              "    </div>\n",
              "  </div>\n",
              "  "
            ]
          },
          "metadata": {},
          "execution_count": 33
        }
      ]
    },
    {
      "cell_type": "code",
      "source": [
        "predictions = []\n",
        "\n",
        "for sample in df_emo_dev.essay.values:\n",
        "  encodings = tokenizer.encode_plus(\n",
        "    sample,\n",
        "    None,\n",
        "    add_special_tokens=True,\n",
        "    max_length=MAX_LEN,\n",
        "    padding='max_length',\n",
        "    return_token_type_ids=True,\n",
        "    truncation=True,\n",
        "    return_attention_mask=True,\n",
        "    return_tensors='pt')\n",
        "  model.eval()\n",
        "\n",
        "  with torch.no_grad():\n",
        "    input_ids = encodings['input_ids'].to(device, dtype=torch.long)\n",
        "    attention_mask = encodings['attention_mask'].to(device, dtype=torch.long)\n",
        "    token_type_ids = encodings['token_type_ids'].to(device, dtype=torch.long)\n",
        "    output = model(input_ids, attention_mask, token_type_ids)\n",
        "    final_output = torch.sigmoid(output).cpu().detach().numpy().tolist()\n",
        "    label = target_labels[int(np.argmax(final_output, axis=1))]\n",
        "    predictions.append({\n",
        "        'emotion': label,\n",
        "        'output': final_output\n",
        "    })"
      ],
      "metadata": {
        "id": "pLJfv7gbbvdQ"
      },
      "execution_count": null,
      "outputs": []
    },
    {
      "cell_type": "code",
      "source": [
        "df_dev_pred = pd.DataFrame(predictions, columns=['emotion'])\n",
        "df_dev_pred.emotion.value_counts()"
      ],
      "metadata": {
        "colab": {
          "base_uri": "https://localhost:8080/"
        },
        "id": "HMLfYKZ16buh",
        "outputId": "34e08733-e4eb-4dfc-f614-ce1e58759852"
      },
      "execution_count": null,
      "outputs": [
        {
          "output_type": "execute_result",
          "data": {
            "text/plain": [
              "Sadness    126\n",
              "Neutral     58\n",
              "Disgust     18\n",
              "Anger        6\n",
              "Name: emotion, dtype: int64"
            ]
          },
          "metadata": {},
          "execution_count": 144
        }
      ]
    },
    {
      "cell_type": "code",
      "source": [
        "df_emo_gold_dev.emotion_true.value_counts()"
      ],
      "metadata": {
        "colab": {
          "base_uri": "https://localhost:8080/"
        },
        "id": "vJFI337C6cVI",
        "outputId": "8c5655db-1825-446d-847f-05f467452966"
      },
      "execution_count": null,
      "outputs": [
        {
          "output_type": "execute_result",
          "data": {
            "text/plain": [
              "Sadness             75\n",
              "Neutral             47\n",
              "Anger               23\n",
              "Disgust             11\n",
              "Anger/Sadness        7\n",
              "Hope/Sadness         7\n",
              "Anger/Disgust        7\n",
              "Hope                 6\n",
              "Fear                 6\n",
              "Disgust/Sadness      5\n",
              "Neutral/Sadness      3\n",
              "Sadness/Surprise     2\n",
              "Fear/Sadness         2\n",
              "Joy                  2\n",
              "Hope/Neutral         2\n",
              "Anger/Neutral        1\n",
              "Disgust/Hope         1\n",
              "Neutral/Surprise     1\n",
              "Name: emotion_true, dtype: int64"
            ]
          },
          "metadata": {},
          "execution_count": 143
        }
      ]
    },
    {
      "cell_type": "code",
      "source": [
        "df_dev_true = df_emo_gold_dev.copy()\n",
        "df_dev_true.emotion_true = df_dev_true.emotion_true.apply(lambda x: encode_label(x))\n",
        "df_dev_true[target_labels] = pd.DataFrame(df_dev_true.emotion_true.to_list(), index=df_dev_true.index)\n",
        "df_dev_true = df_dev_true.drop(columns='emotion_true')\n",
        "\n",
        "df_dev_pred.emotion = df_dev_pred.emotion.apply(lambda x: encode_label(x))\n",
        "df_dev_pred[target_labels] = pd.DataFrame(df_dev_pred.emotion.to_list(), index=df_dev_pred.index)\n",
        "df_dev_pred = df_dev_pred.drop(columns='emotion')\n",
        "\n",
        "dev_pred, dev_true = df_dev_pred[target_labels].values, df_dev_true[target_labels].values\n",
        "\n",
        "accuracy = metrics.accuracy_score(dev_true, dev_pred)\n",
        "f1_score_micro = metrics.f1_score(dev_true, dev_pred, average='micro')\n",
        "f1_score_macro = metrics.f1_score(dev_true, dev_pred, average='macro')\n",
        "\n",
        "print(f\"Accuracy Score = {accuracy}\")\n",
        "print(f\"F1 Score (Micro) = {f1_score_micro}\")\n",
        "print(f\"F1 Score (Macro) = {f1_score_macro}\")"
      ],
      "metadata": {
        "colab": {
          "base_uri": "https://localhost:8080/"
        },
        "id": "DopMsNN_1D2t",
        "outputId": "f7001691-df16-4fc9-f8ef-7c3b1e6f87c2"
      },
      "execution_count": null,
      "outputs": [
        {
          "output_type": "stream",
          "name": "stdout",
          "text": [
            "Accuracy Score = 0.5576923076923077\n",
            "F1 Score (Micro) = 0.6299559471365639\n",
            "F1 Score (Macro) = 0.2547306768121746\n"
          ]
        }
      ]
    },
    {
      "cell_type": "markdown",
      "source": [
        "## **Prepare Submission**"
      ],
      "metadata": {
        "id": "kenaS6jvwX1Y"
      }
    },
    {
      "cell_type": "code",
      "source": [
        "filename = \"predictions_EMO.tsv\"\n",
        "\n",
        "df_submission = pd.DataFrame(predictions, columns=['emotion'])\n",
        "df_submission.to_csv(filename, sep=\"\\t\", header=False, index=False)"
      ],
      "metadata": {
        "id": "jie9ofpfdB6B"
      },
      "execution_count": null,
      "outputs": []
    },
    {
      "cell_type": "code",
      "source": [
        "df_submission.emotion.value_counts()"
      ],
      "metadata": {
        "colab": {
          "base_uri": "https://localhost:8080/"
        },
        "id": "smmBKM3_d2xF",
        "outputId": "7f80b008-a7c3-4a1f-e0ee-2bb85e6d9d61"
      },
      "execution_count": null,
      "outputs": [
        {
          "output_type": "execute_result",
          "data": {
            "text/plain": [
              "Sadness    126\n",
              "Neutral     58\n",
              "Disgust     18\n",
              "Anger        6\n",
              "Name: emotion, dtype: int64"
            ]
          },
          "metadata": {},
          "execution_count": 147
        }
      ]
    },
    {
      "cell_type": "code",
      "source": [
        "!cd /content\n",
        "!rm -rf './predictions.zip'\n",
        "!zip -r './predictions.zip' './predictions_EMO.tsv'"
      ],
      "metadata": {
        "colab": {
          "base_uri": "https://localhost:8080/"
        },
        "id": "l3MtuDYsfUWy",
        "outputId": "bec63700-0bf6-4f6c-eb07-5b8b9b63b615"
      },
      "execution_count": null,
      "outputs": [
        {
          "output_type": "stream",
          "name": "stdout",
          "text": [
            "  adding: predictions_EMO.tsv (deflated 91%)\n"
          ]
        }
      ]
    }
  ]
}